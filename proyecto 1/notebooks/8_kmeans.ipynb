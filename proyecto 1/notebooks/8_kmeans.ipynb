{
 "cells": [
  {
   "cell_type": "markdown",
   "id": "3f4a7791",
   "metadata": {},
   "source": [
    "# KMeans from Scratch\n",
    "\n",
    "Machine Learning Class at ITESO - 2023"
   ]
  },
  {
   "cell_type": "code",
   "execution_count": null,
   "id": "cfee57c6",
   "metadata": {},
   "outputs": [],
   "source": [
    "from sklearn.datasets import make_blobs\n",
    "import pandas as pd\n",
    "import numpy as np\n",
    "import matplotlib.pyplot as plt"
   ]
  },
  {
   "cell_type": "markdown",
   "id": "b229d336",
   "metadata": {},
   "source": [
    "## Create Data"
   ]
  },
  {
   "cell_type": "code",
   "execution_count": null,
   "id": "00e67b91",
   "metadata": {},
   "outputs": [],
   "source": [
    "# create fake data\n",
    "X, y = make_blobs(n_samples = 100, centers = 3, n_features = 2, random_state = 42, cluster_std = 2)"
   ]
  },
  {
   "cell_type": "code",
   "execution_count": null,
   "id": "86b9f001",
   "metadata": {},
   "outputs": [],
   "source": [
    "set(y)"
   ]
  },
  {
   "cell_type": "code",
   "execution_count": null,
   "id": "d8099322",
   "metadata": {},
   "outputs": [],
   "source": [
    "df = pd.DataFrame()\n",
    "df['class'] = y\n",
    "df['x1'] = X[:, 0]\n",
    "df['x2'] = X[:, 1]\n",
    "df"
   ]
  },
  {
   "cell_type": "code",
   "execution_count": null,
   "id": "ff5295fc",
   "metadata": {},
   "outputs": [],
   "source": [
    "import seaborn as sns\n",
    "\n",
    "plt.figure(figsize=(5,5))\n",
    "sns.scatterplot(x = 'x1', y = 'x2', hue = 'class', data = df, legend = 'full', palette = 'tab20')"
   ]
  },
  {
   "cell_type": "markdown",
   "id": "9e84ba53",
   "metadata": {},
   "source": [
    "# Algorithm\n"
   ]
  },
  {
   "cell_type": "markdown",
   "id": "249493dd",
   "metadata": {},
   "source": [
    "## Step 1\n",
    "Randomly pick 𝒌 data points as our initial Centroids."
   ]
  },
  {
   "cell_type": "code",
   "execution_count": null,
   "id": "1fd97473",
   "metadata": {},
   "outputs": [],
   "source": [
    "k = 3\n",
    "\n",
    "# Step 1\n",
    "\n",
    "# idx = # YOUR CODE HERE\n",
    "centroids = X[idx, :]\n",
    "idx"
   ]
  },
  {
   "cell_type": "markdown",
   "id": "eced2bbc",
   "metadata": {},
   "source": [
    "## Step 2\n",
    "Find the distance between each data points in our training set with the 𝒌 centroids.\n"
   ]
  },
  {
   "cell_type": "code",
   "execution_count": null,
   "id": "c87763db",
   "metadata": {},
   "outputs": [],
   "source": [
    "from scipy.spatial.distance import cdist\n",
    "\n",
    "# Step 2\n",
    "# distances = # YOUR CODE HERE\n",
    "distances[0:5]"
   ]
  },
  {
   "cell_type": "markdown",
   "id": "3edc850b",
   "metadata": {},
   "source": [
    "## Step 3\n",
    "Now assign each data point to the closest centroid"
   ]
  },
  {
   "cell_type": "code",
   "execution_count": null,
   "id": "164186c9",
   "metadata": {},
   "outputs": [],
   "source": [
    "# Step 3\n",
    "# points = # YOUR CODE HERE\n",
    "points"
   ]
  },
  {
   "cell_type": "markdown",
   "id": "311bd866",
   "metadata": {},
   "source": [
    "## Step 4\n",
    "Update centroid location by taking the average of the points in each cluster group.\n"
   ]
  },
  {
   "cell_type": "code",
   "execution_count": null,
   "id": "905e0315",
   "metadata": {},
   "outputs": [],
   "source": [
    "# Step 4\n",
    "temp_centroids = []\n",
    "\n",
    "for cluster in range(k):\n",
    "    # Update\n",
    "    # temp_cluster_centroid = # YOUR CODE HERE\n",
    "    temp_centroids.append(temp_cluster_centroid)\n",
    "\n",
    "temp_centroids = np.array(temp_centroids)\n",
    "temp_centroids"
   ]
  },
  {
   "cell_type": "markdown",
   "id": "dbbc2b15",
   "metadata": {},
   "source": [
    "# Step 5\n",
    "Centroid change? Convergence"
   ]
  },
  {
   "cell_type": "code",
   "execution_count": null,
   "id": "01570591",
   "metadata": {},
   "outputs": [],
   "source": [
    "centroids, temp_centroids"
   ]
  },
  {
   "cell_type": "code",
   "execution_count": null,
   "id": "247f01fc",
   "metadata": {},
   "outputs": [],
   "source": [
    "# Step 5\n",
    "if ( (centroids == temp_centroids).all() ):\n",
    "    print(\"Done\")\n",
    "else:\n",
    "    print(\"Not Done\")\n",
    "    centroids = temp_centroids"
   ]
  },
  {
   "cell_type": "markdown",
   "id": "b297ad04",
   "metadata": {},
   "source": [
    "# All together"
   ]
  },
  {
   "cell_type": "code",
   "execution_count": null,
   "id": "969ccc27",
   "metadata": {},
   "outputs": [],
   "source": [
    "def kmeans(X, k):\n",
    "    \n",
    "    # Step 1\n",
    "    # YOUR CODE HERE\n",
    "    \n",
    "    while True:\n",
    "        # Step 2\n",
    "        # YOUR CODE HERE\n",
    "\n",
    "        # Step 3\n",
    "        # YOUR CODE HERE\n",
    "\n",
    "        # Step 4\n",
    "        # YOUR CODE HERE\n",
    "\n",
    "        # Step 5\n",
    "        if ( (centroids == temp_centroids).all() ):\n",
    "            # Done\n",
    "            return points, centroids\n",
    "\n",
    "        else:\n",
    "            centroids = temp_centroids"
   ]
  },
  {
   "cell_type": "code",
   "execution_count": null,
   "id": "ed5eb81a",
   "metadata": {},
   "outputs": [],
   "source": [
    "k = 2\n",
    "points, centroids = kmeans(X, k)"
   ]
  },
  {
   "cell_type": "code",
   "execution_count": null,
   "id": "af0101d8",
   "metadata": {},
   "outputs": [],
   "source": [
    "centroids"
   ]
  },
  {
   "cell_type": "code",
   "execution_count": null,
   "id": "3328ea8a",
   "metadata": {},
   "outputs": [],
   "source": [
    "df = pd.DataFrame()\n",
    "df['cluster'] = points\n",
    "df['x1'] = X[:, 0]\n",
    "df['x2'] = X[:, 1]\n",
    "\n",
    "# plot\n",
    "plt.figure(figsize=(8,5))\n",
    "sns.scatterplot(x = 'x1', y = 'x2', hue = 'cluster', data = df, legend = 'full', palette = 'tab20')\n",
    "plt.scatter(centroids[:, 0], centroids[:, 1], c = 'r', label = 'Centroids')\n",
    "plt.legend()"
   ]
  },
  {
   "cell_type": "markdown",
   "id": "4166d930",
   "metadata": {},
   "source": [
    "# The Elbow Method + Sklearn"
   ]
  },
  {
   "cell_type": "code",
   "execution_count": null,
   "id": "5a36cd13",
   "metadata": {},
   "outputs": [],
   "source": [
    "from sklearn.cluster import KMeans\n",
    "\n",
    "k = 2\n",
    "kmeans = KMeans(n_clusters = k, random_state  = 42).fit(X)"
   ]
  },
  {
   "cell_type": "code",
   "execution_count": null,
   "id": "e855a3b8",
   "metadata": {},
   "outputs": [],
   "source": [
    "print(\"Points: \", kmeans.labels_)\n",
    "# print(\"Centroids: \", kmeans.cluster_centers_[0])"
   ]
  },
  {
   "cell_type": "code",
   "execution_count": null,
   "id": "4c271cf0",
   "metadata": {},
   "outputs": [],
   "source": [
    "print(\"Score: \", kmeans.inertia_)\n",
    "print(\"Score: \", kmeans.score(X))"
   ]
  },
  {
   "cell_type": "code",
   "execution_count": null,
   "id": "46c13439",
   "metadata": {},
   "outputs": [],
   "source": [
    "wcss = []\n",
    "\n",
    "for k in range(1, 20):\n",
    "    kmeans = KMeans(n_clusters = k, random_state  = 42).fit(X)\n",
    "    wcss.append(kmeans.inertia_)"
   ]
  },
  {
   "cell_type": "markdown",
   "id": "689e81d5",
   "metadata": {},
   "source": [
    "# Plot Elbow Method"
   ]
  },
  {
   "cell_type": "code",
   "execution_count": null,
   "id": "58dc8b5b",
   "metadata": {},
   "outputs": [],
   "source": [
    "plt.plot(range(1, 20), wcss)\n",
    "plt.title(\"Elbow Method\")\n",
    "plt.xlabel(\"K\")\n",
    "plt.ylabel(\"WCSS/Inertia/Score\")\n",
    "plt.show()"
   ]
  },
  {
   "cell_type": "code",
   "execution_count": null,
   "id": "967128e2",
   "metadata": {},
   "outputs": [],
   "source": []
  }
 ],
 "metadata": {
  "kernelspec": {
   "display_name": "Python 3.8.12 ('UMG')",
   "language": "python",
   "name": "python3"
  },
  "language_info": {
   "codemirror_mode": {
    "name": "ipython",
    "version": 3
   },
   "file_extension": ".py",
   "mimetype": "text/x-python",
   "name": "python",
   "nbconvert_exporter": "python",
   "pygments_lexer": "ipython3",
   "version": "3.8.12"
  },
  "vscode": {
   "interpreter": {
    "hash": "0389bab2fbea60515bf8027f3c0484e787046d7f1c21d6f4a4c9da67d79f5d44"
   }
  }
 },
 "nbformat": 4,
 "nbformat_minor": 5
}
